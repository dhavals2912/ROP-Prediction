{
 "cells": [
  {
   "cell_type": "code",
   "execution_count": 7,
   "metadata": {},
   "outputs": [],
   "source": [
    "# This is based on python3.8.9\n",
    "!pip install -r requirements.txt"
   ]
  },
  {
   "cell_type": "code",
   "execution_count": 4,
   "metadata": {},
   "outputs": [],
   "source": [
    "import pandas as pd\n",
    "import numpy as np\n",
    "import pickle\n",
    "\n",
    "from sklearn.preprocessing import MinMaxScaler, StandardScaler\n",
    "from sklearn.metrics import mean_absolute_error\n",
    "from sklearn.ensemble import RandomForestRegressor, GradientBoostingRegressor\n",
    "from sklearn.neural_network import MLPRegressor"
   ]
  },
  {
   "cell_type": "code",
   "execution_count": 5,
   "metadata": {},
   "outputs": [],
   "source": [
    "class SuperLearner(object):\n",
    "    def __init__(self, model=None):\n",
    "        self.models = model\n",
    "        \n",
    "    def predict(self, X_test):\n",
    "        y_pred = pd.DataFrame()\n",
    "        i = 0\n",
    "        for model in self.models:\n",
    "            y_pred[i] = model.predict(X_test)\n",
    "            i += 1\n",
    "            \n",
    "        ret = y_pred.mean(axis=1)\n",
    "        return ret\n",
    "       "
   ]
  },
  {
   "cell_type": "code",
   "execution_count": 6,
   "metadata": {},
   "outputs": [],
   "source": [
    "class Model(object):\n",
    "    def __init__(self, model_file, scaler_file):\n",
    "        # Load pre-trained model from file\n",
    "        self.model = pickle.load(open(model_file, 'rb'))\n",
    "        # Load a \"pre-trained\" scaler from file\n",
    "        self.scaler = pickle.load(open(scaler_file, 'rb'))\n",
    "        self.sl = SuperLearner(self.model)\n",
    "        \n",
    "    def _preprocess(self, features):\n",
    "        features.replace(['-999', -999], -1, inplace=True)\n",
    "        features.drop(['Well Identifier'], axis='columns', inplace=True)\n",
    "        features = MinMaxScaler().fit_transform(features)\n",
    "        return self.scaler.fit_transform(features)\n",
    "        \n",
    "    def predict(self, features):\n",
    "        X = self._preprocess(features)\n",
    "        y_pred = self.sl.predict(X)\n",
    "        return y_pred"
   ]
  },
  {
   "cell_type": "code",
   "execution_count": 7,
   "metadata": {},
   "outputs": [],
   "source": [
    "mm = Model('slmodel.pkl', 'scaler.pkl')\n",
    "test_data = pd.read_csv('test_dataset.csv')\n",
    "y_pred = mm.predict(test_data)\n",
    "\n",
    "\n",
    "np.savetxt('result.csv', y_pred, header='Rate of Penetration', comments='', fmt='%f')"
   ]
  }
 ],
 "metadata": {
  "kernelspec": {
   "display_name": "Python 3",
   "language": "python",
   "name": "python3"
  },
  "language_info": {
   "codemirror_mode": {
    "name": "ipython",
    "version": 3
   },
   "file_extension": ".py",
   "mimetype": "text/x-python",
   "name": "python",
   "nbconvert_exporter": "python",
   "pygments_lexer": "ipython3",
   "version": "3.8.9"
  }
 },
 "nbformat": 4,
 "nbformat_minor": 4
}
