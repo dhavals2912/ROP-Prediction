{
 "cells": [
  {
   "cell_type": "code",
   "execution_count": 11,
   "metadata": {},
   "outputs": [],
   "source": [
    "# import libraries\n",
    "import pandas as pd\n",
    "import numpy as np\n",
    "import pickle\n",
    "from sklearn.preprocessing import MinMaxScaler \n",
    "from sklearn.model_selection import train_test_split, cross_val_score, cross_validate, RandomizedSearchCV\n",
    "from sklearn.neural_network import MLPRegressor\n",
    "from sklearn.ensemble import RandomForestRegressor"
   ]
  },
  {
   "cell_type": "code",
   "execution_count": 3,
   "metadata": {},
   "outputs": [],
   "source": [
    "data = pd.read_csv('train_dataset.csv')"
   ]
  },
  {
   "cell_type": "code",
   "execution_count": 6,
   "metadata": {},
   "outputs": [],
   "source": [
    "features = data.columns.drop('Well Identifier').drop('Rate of Penetration m/h')\n",
    "scaler = MinMaxScaler()\n",
    "data[features] = scaler.fit_transform(data[features])"
   ]
  },
  {
   "cell_type": "code",
   "execution_count": 7,
   "metadata": {
    "scrolled": true
   },
   "outputs": [
    {
     "name": "stderr",
     "output_type": "stream",
     "text": [
      "/home/lemon/AI/lib64/python3.8/site-packages/sklearn/neural_network/_multilayer_perceptron.py:619: UserWarning: Training interrupted by user.\n",
      "  warnings.warn(\"Training interrupted by user.\")\n"
     ]
    },
    {
     "data": {
      "text/plain": [
       "MLPRegressor(hidden_layer_sizes=(100, 50, 50, 50, 50, 50, 50, 50, 50),\n",
       "             random_state=1)"
      ]
     },
     "execution_count": 7,
     "metadata": {},
     "output_type": "execute_result"
    }
   ],
   "source": [
    "features = data.columns.drop(['Diameter mm', 'Mud Density In g/cm3', 'Measured Depth m'])\n",
    "X_feat = data[features].drop(columns=['Well Identifier', 'Rate of Penetration m/h'])\n",
    "actual = data['Rate of Penetration m/h']\n",
    "\n",
    "model = MLPRegressor(random_state=1, activation=\"relu\", hidden_layer_sizes=(100,50, 50, 50, 50, 50, 50, 50, 50))\n",
    "model.fit(X_feat, actual)"
   ]
  },
  {
   "cell_type": "code",
   "execution_count": 9,
   "metadata": {},
   "outputs": [],
   "source": [
    "class SuperLearner(object):\n",
    "    def __init__(self, model=None):\n",
    "        self.models = model\n",
    "        \n",
    "    def predict(self, X_test):\n",
    "        y_pred = pd.DataFrame()\n",
    "        i = 0\n",
    "        for model in self.models:\n",
    "            y_pred[i] = model.predict(X_test)\n",
    "            i += 1\n",
    "            \n",
    "        ret = y_pred.mean(axis=1)\n",
    "        return ret"
   ]
  },
  {
   "cell_type": "code",
   "execution_count": 14,
   "metadata": {},
   "outputs": [
    {
     "data": {
      "text/plain": [
       "RandomForestRegressor(n_estimators=80, n_jobs=-1, random_state=5754)"
      ]
     },
     "execution_count": 14,
     "metadata": {},
     "output_type": "execute_result"
    }
   ],
   "source": [
    "rfr_model = RandomForestRegressor(n_estimators=80, random_state=5754, n_jobs=-1)\n",
    "rfr_model.fit(X_feat,actual)"
   ]
  },
  {
   "cell_type": "code",
   "execution_count": 15,
   "metadata": {},
   "outputs": [
    {
     "name": "stderr",
     "output_type": "stream",
     "text": [
      "/home/lemon/AI/lib64/python3.8/site-packages/sklearn/neural_network/_multilayer_perceptron.py:619: UserWarning: Training interrupted by user.\n",
      "  warnings.warn(\"Training interrupted by user.\")\n"
     ]
    },
    {
     "data": {
      "text/plain": [
       "MLPRegressor(hidden_layer_sizes=(100, 50, 50, 50, 50, 50, 50, 50, 50),\n",
       "             random_state=1)"
      ]
     },
     "execution_count": 15,
     "metadata": {},
     "output_type": "execute_result"
    }
   ],
   "source": [
    "model2 = MLPRegressor(random_state=1, activation=\"relu\", hidden_layer_sizes=(100,50, 50, 50, 50, 50, 50, 50, 50))\n",
    "model2.fit(X_feat, actual)"
   ]
  },
  {
   "cell_type": "code",
   "execution_count": 16,
   "metadata": {},
   "outputs": [],
   "source": [
    "# sl = [rfr_model, model2]\n",
    "# pickle.dump(sl, open('model.pkl', 'wb'))\n",
    "# pickle.dump(scaler, open('scaler.pkl', 'wb'))"
   ]
  }
 ],
 "metadata": {
  "kernelspec": {
   "display_name": "Python 3",
   "language": "python",
   "name": "python3"
  },
  "language_info": {
   "codemirror_mode": {
    "name": "ipython",
    "version": 3
   },
   "file_extension": ".py",
   "mimetype": "text/x-python",
   "name": "python",
   "nbconvert_exporter": "python",
   "pygments_lexer": "ipython3",
   "version": "3.8.9"
  }
 },
 "nbformat": 4,
 "nbformat_minor": 4
}
